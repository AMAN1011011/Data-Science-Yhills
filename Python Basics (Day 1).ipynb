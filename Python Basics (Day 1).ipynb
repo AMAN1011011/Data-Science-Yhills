{
 "cells": [
  {
   "cell_type": "markdown",
   "id": "812f7241",
   "metadata": {},
   "source": [
    "## PYTHON PROGRAMMING"
   ]
  },
  {
   "cell_type": "markdown",
   "id": "8e1fdc7e",
   "metadata": {},
   "source": [
    "#### Python is a high level general purpose programming language"
   ]
  },
  {
   "cell_type": "markdown",
   "id": "d8e3d641",
   "metadata": {},
   "source": [
    "#### Guido Van Rossum began working on python in late 1980s and released it in th year 1991 as Python 0.9.0"
   ]
  },
  {
   "cell_type": "markdown",
   "id": "f46ee1b1",
   "metadata": {},
   "source": [
    "#### Now days we are using python versions of 3.9.16 or 3.10.9"
   ]
  },
  {
   "cell_type": "code",
   "execution_count": 9,
   "id": "2dbcb1c9",
   "metadata": {},
   "outputs": [
    {
     "name": "stdout",
     "output_type": "stream",
     "text": [
      "Hello world\n"
     ]
    }
   ],
   "source": [
    "print(\"Hello world\")"
   ]
  },
  {
   "cell_type": "markdown",
   "id": "6a05c8fb",
   "metadata": {},
   "source": [
    "###### Here is our first python program, the print function is used to print the specified message on the screen the things you want to be under the print statement are supposed to be written inside parentheses() .To print any statement as it is, it should under Quotation marks \" \""
   ]
  },
  {
   "cell_type": "markdown",
   "id": "61ae59cf",
   "metadata": {},
   "source": [
    "## DATA TYPES IN PYTHON"
   ]
  },
  {
   "cell_type": "markdown",
   "id": "ee78e63e",
   "metadata": {},
   "source": [
    "#### Python have following data types-\n",
    "#### Integer(int) - these are the numeric data type and holds a whole numeric value\n",
    "#### Float - contains decimal integer values\n",
    "#### String(str) - These are text data types which allows only text to be inserted\n",
    "#### Boolean(bool) - Data type that has one of two possible values only such as yes/no; true/false etc\n"
   ]
  },
  {
   "cell_type": "code",
   "execution_count": 4,
   "id": "a411d098",
   "metadata": {},
   "outputs": [
    {
     "data": {
      "text/plain": [
       "int"
      ]
     },
     "execution_count": 4,
     "metadata": {},
     "output_type": "execute_result"
    }
   ],
   "source": [
    "x=(10)\n",
    "type(x)"
   ]
  },
  {
   "cell_type": "code",
   "execution_count": 5,
   "id": "a4fd969e",
   "metadata": {},
   "outputs": [
    {
     "data": {
      "text/plain": [
       "float"
      ]
     },
     "execution_count": 5,
     "metadata": {},
     "output_type": "execute_result"
    }
   ],
   "source": [
    "x=(10.5)\n",
    "type(x)"
   ]
  },
  {
   "cell_type": "code",
   "execution_count": 12,
   "id": "d5b19f87",
   "metadata": {},
   "outputs": [
    {
     "data": {
      "text/plain": [
       "str"
      ]
     },
     "execution_count": 12,
     "metadata": {},
     "output_type": "execute_result"
    }
   ],
   "source": [
    "x=(\"python\")\n",
    "type(x)"
   ]
  },
  {
   "cell_type": "code",
   "execution_count": 15,
   "id": "fb9b087d",
   "metadata": {},
   "outputs": [
    {
     "data": {
      "text/plain": [
       "bool"
      ]
     },
     "execution_count": 15,
     "metadata": {},
     "output_type": "execute_result"
    }
   ],
   "source": [
    "x=False\n",
    "type(x)"
   ]
  },
  {
   "cell_type": "code",
   "execution_count": 17,
   "id": "7db678b3",
   "metadata": {},
   "outputs": [
    {
     "ename": "NameError",
     "evalue": "name 'true' is not defined",
     "output_type": "error",
     "traceback": [
      "\u001b[1;31m---------------------------------------------------------------------------\u001b[0m",
      "\u001b[1;31mNameError\u001b[0m                                 Traceback (most recent call last)",
      "\u001b[1;32m~\\AppData\\Local\\Temp\\ipykernel_24296\\1172434792.py\u001b[0m in \u001b[0;36m<module>\u001b[1;34m\u001b[0m\n\u001b[1;32m----> 1\u001b[1;33m \u001b[0mx\u001b[0m\u001b[1;33m=\u001b[0m\u001b[0mtrue\u001b[0m\u001b[1;33m\u001b[0m\u001b[1;33m\u001b[0m\u001b[0m\n\u001b[0m\u001b[0;32m      2\u001b[0m \u001b[0mtype\u001b[0m\u001b[1;33m(\u001b[0m\u001b[0mx\u001b[0m\u001b[1;33m)\u001b[0m\u001b[1;33m\u001b[0m\u001b[1;33m\u001b[0m\u001b[0m\n",
      "\u001b[1;31mNameError\u001b[0m: name 'true' is not defined"
     ]
    }
   ],
   "source": [
    "x=true\n",
    "type(x)"
   ]
  },
  {
   "cell_type": "markdown",
   "id": "0ddf31f5",
   "metadata": {},
   "source": [
    "###### NOTE- Python is a case sensitive language, therefor \"a\" and \"A\" are not same here\n",
    "###### This is the reason why above code(x=true) is showing error where (x=True) will be the correct code"
   ]
  },
  {
   "cell_type": "markdown",
   "id": "b0bf9f8c",
   "metadata": {},
   "source": [
    "## UNDERSTANDING VARIABLES"
   ]
  },
  {
   "cell_type": "markdown",
   "id": "703ac82a",
   "metadata": {},
   "source": [
    "### While assigning any variable you must remember the following terms\n",
    "#### Space is not allowed\n",
    "#### The only allowed spl char is underscore\n",
    "#### Variable name should not start with a number\n",
    "#### It should start with A-Z,a-z or underscore(_)\n"
   ]
  },
  {
   "cell_type": "code",
   "execution_count": 1,
   "id": "51029013",
   "metadata": {},
   "outputs": [
    {
     "data": {
      "text/plain": [
       "('DS', 'BA', 'ML')"
      ]
     },
     "execution_count": 1,
     "metadata": {},
     "output_type": "execute_result"
    }
   ],
   "source": [
    "coursenames=\"DS\",\"BA\",\"ML\"\n",
    "coursenames"
   ]
  },
  {
   "cell_type": "code",
   "execution_count": 2,
   "id": "d76595c8",
   "metadata": {},
   "outputs": [
    {
     "ename": "SyntaxError",
     "evalue": "invalid syntax (211315672.py, line 1)",
     "output_type": "error",
     "traceback": [
      "\u001b[1;36m  File \u001b[1;32m\"C:\\Users\\10ver\\AppData\\Local\\Temp\\ipykernel_3532\\211315672.py\"\u001b[1;36m, line \u001b[1;32m1\u001b[0m\n\u001b[1;33m    course names=\"DS\",\"BA\",\"ML\"\u001b[0m\n\u001b[1;37m           ^\u001b[0m\n\u001b[1;31mSyntaxError\u001b[0m\u001b[1;31m:\u001b[0m invalid syntax\n"
     ]
    }
   ],
   "source": [
    "course names=\"DS\",\"BA\",\"ML\"\n",
    "course names\n"
   ]
  },
  {
   "cell_type": "code",
   "execution_count": 3,
   "id": "68e8eb4c",
   "metadata": {},
   "outputs": [
    {
     "ename": "SyntaxError",
     "evalue": "cannot assign to operator (53174269.py, line 1)",
     "output_type": "error",
     "traceback": [
      "\u001b[1;36m  File \u001b[1;32m\"C:\\Users\\10ver\\AppData\\Local\\Temp\\ipykernel_3532\\53174269.py\"\u001b[1;36m, line \u001b[1;32m1\u001b[0m\n\u001b[1;33m    course*names=\"DS\",\"BA\",\"ML\"\u001b[0m\n\u001b[1;37m    ^\u001b[0m\n\u001b[1;31mSyntaxError\u001b[0m\u001b[1;31m:\u001b[0m cannot assign to operator\n"
     ]
    }
   ],
   "source": [
    "course*names=\"DS\",\"BA\",\"ML\"\n",
    "course*names\n"
   ]
  },
  {
   "cell_type": "code",
   "execution_count": 4,
   "id": "ba609af6",
   "metadata": {},
   "outputs": [
    {
     "data": {
      "text/plain": [
       "('DS', 'BA', 'ML')"
      ]
     },
     "execution_count": 4,
     "metadata": {},
     "output_type": "execute_result"
    }
   ],
   "source": [
    "course_names=\"DS\",\"BA\",\"ML\"\n",
    "course_names"
   ]
  },
  {
   "cell_type": "code",
   "execution_count": 5,
   "id": "1c689767",
   "metadata": {},
   "outputs": [
    {
     "ename": "SyntaxError",
     "evalue": "invalid syntax (1217883089.py, line 1)",
     "output_type": "error",
     "traceback": [
      "\u001b[1;36m  File \u001b[1;32m\"C:\\Users\\10ver\\AppData\\Local\\Temp\\ipykernel_3532\\1217883089.py\"\u001b[1;36m, line \u001b[1;32m1\u001b[0m\n\u001b[1;33m    3coursenames=\"DS\",\"BA\",\"ML\"\u001b[0m\n\u001b[1;37m     ^\u001b[0m\n\u001b[1;31mSyntaxError\u001b[0m\u001b[1;31m:\u001b[0m invalid syntax\n"
     ]
    }
   ],
   "source": [
    "3coursenames=\"DS\",\"BA\",\"ML\"\n",
    "3coursenames\n"
   ]
  },
  {
   "cell_type": "code",
   "execution_count": 6,
   "id": "00239fc9",
   "metadata": {},
   "outputs": [
    {
     "data": {
      "text/plain": [
       "('DS', 'BA', 'ML')"
      ]
     },
     "execution_count": 6,
     "metadata": {},
     "output_type": "execute_result"
    }
   ],
   "source": [
    "c3oursenames=\"DS\",\"BA\",\"ML\"\n",
    "c3oursenames\n"
   ]
  },
  {
   "cell_type": "code",
   "execution_count": null,
   "id": "0fd76d70",
   "metadata": {},
   "outputs": [],
   "source": []
  }
 ],
 "metadata": {
  "kernelspec": {
   "display_name": "Python 3 (ipykernel)",
   "language": "python",
   "name": "python3"
  },
  "language_info": {
   "codemirror_mode": {
    "name": "ipython",
    "version": 3
   },
   "file_extension": ".py",
   "mimetype": "text/x-python",
   "name": "python",
   "nbconvert_exporter": "python",
   "pygments_lexer": "ipython3",
   "version": "3.9.13"
  }
 },
 "nbformat": 4,
 "nbformat_minor": 5
}
