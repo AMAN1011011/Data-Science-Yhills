{
 "cells": [
  {
   "cell_type": "markdown",
   "id": "a2a2e215",
   "metadata": {},
   "source": [
    "## PANDAS\n",
    "### To create data, Tables and Manipulation"
   ]
  },
  {
   "cell_type": "markdown",
   "id": "796e70a8",
   "metadata": {},
   "source": [
    "#### First of all we have to import pandas and numpy from python libraries"
   ]
  },
  {
   "cell_type": "code",
   "execution_count": 3,
   "id": "3e5cff72",
   "metadata": {},
   "outputs": [],
   "source": [
    "import pandas as pd\n",
    "import numpy as np"
   ]
  },
  {
   "cell_type": "code",
   "execution_count": 4,
   "id": "90dbf300",
   "metadata": {},
   "outputs": [],
   "source": [
    "lables=['w','x','y','z']\n",
    "sample_list=[100,200,300,400]\n",
    "array=np.array([1,2,3,4])\n",
    "dict={'w':10, 'x':20, 'y':30, 'z':40}"
   ]
  },
  {
   "cell_type": "code",
   "execution_count": 6,
   "id": "657379aa",
   "metadata": {},
   "outputs": [
    {
     "data": {
      "text/plain": [
       "0    100\n",
       "1    200\n",
       "2    300\n",
       "3    400\n",
       "dtype: int64"
      ]
     },
     "execution_count": 6,
     "metadata": {},
     "output_type": "execute_result"
    }
   ],
   "source": [
    "pd.Series(data=sample_list)"
   ]
  },
  {
   "cell_type": "markdown",
   "id": "3faa47fc",
   "metadata": {},
   "source": [
    "##### Series must always have (S) as capital or else it will show error"
   ]
  },
  {
   "cell_type": "code",
   "execution_count": 7,
   "id": "68704755",
   "metadata": {},
   "outputs": [
    {
     "data": {
      "text/plain": [
       "w    100\n",
       "x    200\n",
       "y    300\n",
       "z    400\n",
       "dtype: int64"
      ]
     },
     "execution_count": 7,
     "metadata": {},
     "output_type": "execute_result"
    }
   ],
   "source": [
    "pd.Series(data=sample_list,index=lables)"
   ]
  },
  {
   "cell_type": "code",
   "execution_count": 9,
   "id": "8d156baf",
   "metadata": {},
   "outputs": [
    {
     "data": {
      "text/plain": [
       "w    100\n",
       "x    200\n",
       "y    300\n",
       "z    400\n",
       "dtype: int64"
      ]
     },
     "execution_count": 9,
     "metadata": {},
     "output_type": "execute_result"
    }
   ],
   "source": [
    "pd.Series(sample_list,lables)"
   ]
  },
  {
   "cell_type": "code",
   "execution_count": 10,
   "id": "9637641e",
   "metadata": {},
   "outputs": [
    {
     "data": {
      "text/plain": [
       "w    10\n",
       "x    20\n",
       "y    30\n",
       "z    40\n",
       "dtype: int64"
      ]
     },
     "execution_count": 10,
     "metadata": {},
     "output_type": "execute_result"
    }
   ],
   "source": [
    "pd.Series(dict)"
   ]
  },
  {
   "cell_type": "markdown",
   "id": "fb405e72",
   "metadata": {},
   "source": [
    "## PANDAS"
   ]
  },
  {
   "cell_type": "markdown",
   "id": "dd0fce07",
   "metadata": {},
   "source": [
    "### Pandas Dataframe and indexing"
   ]
  },
  {
   "cell_type": "code",
   "execution_count": 12,
   "id": "25ea5894",
   "metadata": {},
   "outputs": [
    {
     "data": {
      "text/plain": [
       "cricket       1\n",
       "football      2\n",
       "basketball    3\n",
       "golf          4\n",
       "dtype: int64"
      ]
     },
     "execution_count": 12,
     "metadata": {},
     "output_type": "execute_result"
    }
   ],
   "source": [
    "sports1=pd.Series([1,2,3,4],index=['cricket','football','basketball','golf'],)\n",
    "sports1"
   ]
  },
  {
   "cell_type": "code",
   "execution_count": 13,
   "id": "1cb1c30c",
   "metadata": {},
   "outputs": [
    {
     "data": {
      "text/plain": [
       "1"
      ]
     },
     "execution_count": 13,
     "metadata": {},
     "output_type": "execute_result"
    }
   ],
   "source": [
    "sports1['cricket']"
   ]
  },
  {
   "cell_type": "code",
   "execution_count": 14,
   "id": "3a07f18a",
   "metadata": {},
   "outputs": [
    {
     "data": {
      "text/plain": [
       "cricket       11\n",
       "football       2\n",
       "basketball     3\n",
       "gof            4\n",
       "dtype: int64"
      ]
     },
     "execution_count": 14,
     "metadata": {},
     "output_type": "execute_result"
    }
   ],
   "source": [
    "sports2=pd.Series([11,2,3,4],index=['cricket','football','basketball','gof'])\n",
    "sports2"
   ]
  },
  {
   "cell_type": "code",
   "execution_count": 15,
   "id": "19c6f43c",
   "metadata": {},
   "outputs": [
    {
     "data": {
      "text/plain": [
       "basketball     6.0\n",
       "cricket       12.0\n",
       "football       4.0\n",
       "gof            NaN\n",
       "golf           NaN\n",
       "dtype: float64"
      ]
     },
     "execution_count": 15,
     "metadata": {},
     "output_type": "execute_result"
    }
   ],
   "source": [
    "sports1+sports2"
   ]
  },
  {
   "cell_type": "code",
   "execution_count": 20,
   "id": "0b011cfd",
   "metadata": {},
   "outputs": [
    {
     "data": {
      "text/html": [
       "<div>\n",
       "<style scoped>\n",
       "    .dataframe tbody tr th:only-of-type {\n",
       "        vertical-align: middle;\n",
       "    }\n",
       "\n",
       "    .dataframe tbody tr th {\n",
       "        vertical-align: top;\n",
       "    }\n",
       "\n",
       "    .dataframe thead th {\n",
       "        text-align: right;\n",
       "    }\n",
       "</style>\n",
       "<table border=\"1\" class=\"dataframe\">\n",
       "  <thead>\n",
       "    <tr style=\"text-align: right;\">\n",
       "      <th></th>\n",
       "      <th>Score1</th>\n",
       "      <th>Score2</th>\n",
       "      <th>Score3</th>\n",
       "      <th>Score4</th>\n",
       "      <th>Score5</th>\n",
       "    </tr>\n",
       "  </thead>\n",
       "  <tbody>\n",
       "    <tr>\n",
       "      <th>A</th>\n",
       "      <td>0.604712</td>\n",
       "      <td>0.695394</td>\n",
       "      <td>0.460278</td>\n",
       "      <td>0.395283</td>\n",
       "      <td>0.484256</td>\n",
       "    </tr>\n",
       "    <tr>\n",
       "      <th>B</th>\n",
       "      <td>0.651724</td>\n",
       "      <td>0.959971</td>\n",
       "      <td>0.582550</td>\n",
       "      <td>0.521702</td>\n",
       "      <td>0.279101</td>\n",
       "    </tr>\n",
       "    <tr>\n",
       "      <th>C</th>\n",
       "      <td>0.487765</td>\n",
       "      <td>0.784337</td>\n",
       "      <td>0.581701</td>\n",
       "      <td>0.822939</td>\n",
       "      <td>0.634076</td>\n",
       "    </tr>\n",
       "    <tr>\n",
       "      <th>D</th>\n",
       "      <td>0.696250</td>\n",
       "      <td>0.127148</td>\n",
       "      <td>0.002887</td>\n",
       "      <td>0.739193</td>\n",
       "      <td>0.501798</td>\n",
       "    </tr>\n",
       "    <tr>\n",
       "      <th>E</th>\n",
       "      <td>0.434303</td>\n",
       "      <td>0.756940</td>\n",
       "      <td>0.943734</td>\n",
       "      <td>0.194841</td>\n",
       "      <td>0.379262</td>\n",
       "    </tr>\n",
       "    <tr>\n",
       "      <th>F</th>\n",
       "      <td>0.296340</td>\n",
       "      <td>0.271583</td>\n",
       "      <td>0.985466</td>\n",
       "      <td>0.727408</td>\n",
       "      <td>0.539584</td>\n",
       "    </tr>\n",
       "    <tr>\n",
       "      <th>G</th>\n",
       "      <td>0.055912</td>\n",
       "      <td>0.345239</td>\n",
       "      <td>0.204766</td>\n",
       "      <td>0.553160</td>\n",
       "      <td>0.699460</td>\n",
       "    </tr>\n",
       "    <tr>\n",
       "      <th>H</th>\n",
       "      <td>0.185420</td>\n",
       "      <td>0.879349</td>\n",
       "      <td>0.892606</td>\n",
       "      <td>0.868497</td>\n",
       "      <td>0.437704</td>\n",
       "    </tr>\n",
       "  </tbody>\n",
       "</table>\n",
       "</div>"
      ],
      "text/plain": [
       "     Score1    Score2    Score3    Score4    Score5\n",
       "A  0.604712  0.695394  0.460278  0.395283  0.484256\n",
       "B  0.651724  0.959971  0.582550  0.521702  0.279101\n",
       "C  0.487765  0.784337  0.581701  0.822939  0.634076\n",
       "D  0.696250  0.127148  0.002887  0.739193  0.501798\n",
       "E  0.434303  0.756940  0.943734  0.194841  0.379262\n",
       "F  0.296340  0.271583  0.985466  0.727408  0.539584\n",
       "G  0.055912  0.345239  0.204766  0.553160  0.699460\n",
       "H  0.185420  0.879349  0.892606  0.868497  0.437704"
      ]
     },
     "execution_count": 20,
     "metadata": {},
     "output_type": "execute_result"
    }
   ],
   "source": [
    "df1=pd.DataFrame(np.random.rand(8,5),index='A B C D E F G H'.split(),columns='Score1 Score2 Score3 Score4 Score5'.split())\n",
    "df1"
   ]
  },
  {
   "cell_type": "code",
   "execution_count": 21,
   "id": "2dbc1cb6",
   "metadata": {},
   "outputs": [
    {
     "data": {
      "text/plain": [
       "A    0.460278\n",
       "B    0.582550\n",
       "C    0.581701\n",
       "D    0.002887\n",
       "E    0.943734\n",
       "F    0.985466\n",
       "G    0.204766\n",
       "H    0.892606\n",
       "Name: Score3, dtype: float64"
      ]
     },
     "execution_count": 21,
     "metadata": {},
     "output_type": "execute_result"
    }
   ],
   "source": [
    "df1[\"Score3\"]"
   ]
  },
  {
   "cell_type": "code",
   "execution_count": 22,
   "id": "5b9e671e",
   "metadata": {},
   "outputs": [
    {
     "data": {
      "text/html": [
       "<div>\n",
       "<style scoped>\n",
       "    .dataframe tbody tr th:only-of-type {\n",
       "        vertical-align: middle;\n",
       "    }\n",
       "\n",
       "    .dataframe tbody tr th {\n",
       "        vertical-align: top;\n",
       "    }\n",
       "\n",
       "    .dataframe thead th {\n",
       "        text-align: right;\n",
       "    }\n",
       "</style>\n",
       "<table border=\"1\" class=\"dataframe\">\n",
       "  <thead>\n",
       "    <tr style=\"text-align: right;\">\n",
       "      <th></th>\n",
       "      <th>Score1</th>\n",
       "      <th>Score2</th>\n",
       "      <th>Score3</th>\n",
       "    </tr>\n",
       "  </thead>\n",
       "  <tbody>\n",
       "    <tr>\n",
       "      <th>A</th>\n",
       "      <td>0.604712</td>\n",
       "      <td>0.695394</td>\n",
       "      <td>0.460278</td>\n",
       "    </tr>\n",
       "    <tr>\n",
       "      <th>B</th>\n",
       "      <td>0.651724</td>\n",
       "      <td>0.959971</td>\n",
       "      <td>0.582550</td>\n",
       "    </tr>\n",
       "    <tr>\n",
       "      <th>C</th>\n",
       "      <td>0.487765</td>\n",
       "      <td>0.784337</td>\n",
       "      <td>0.581701</td>\n",
       "    </tr>\n",
       "    <tr>\n",
       "      <th>D</th>\n",
       "      <td>0.696250</td>\n",
       "      <td>0.127148</td>\n",
       "      <td>0.002887</td>\n",
       "    </tr>\n",
       "    <tr>\n",
       "      <th>E</th>\n",
       "      <td>0.434303</td>\n",
       "      <td>0.756940</td>\n",
       "      <td>0.943734</td>\n",
       "    </tr>\n",
       "    <tr>\n",
       "      <th>F</th>\n",
       "      <td>0.296340</td>\n",
       "      <td>0.271583</td>\n",
       "      <td>0.985466</td>\n",
       "    </tr>\n",
       "    <tr>\n",
       "      <th>G</th>\n",
       "      <td>0.055912</td>\n",
       "      <td>0.345239</td>\n",
       "      <td>0.204766</td>\n",
       "    </tr>\n",
       "    <tr>\n",
       "      <th>H</th>\n",
       "      <td>0.185420</td>\n",
       "      <td>0.879349</td>\n",
       "      <td>0.892606</td>\n",
       "    </tr>\n",
       "  </tbody>\n",
       "</table>\n",
       "</div>"
      ],
      "text/plain": [
       "     Score1    Score2    Score3\n",
       "A  0.604712  0.695394  0.460278\n",
       "B  0.651724  0.959971  0.582550\n",
       "C  0.487765  0.784337  0.581701\n",
       "D  0.696250  0.127148  0.002887\n",
       "E  0.434303  0.756940  0.943734\n",
       "F  0.296340  0.271583  0.985466\n",
       "G  0.055912  0.345239  0.204766\n",
       "H  0.185420  0.879349  0.892606"
      ]
     },
     "execution_count": 22,
     "metadata": {},
     "output_type": "execute_result"
    }
   ],
   "source": [
    "df1[[\"Score1\",\"Score2\",\"Score3\"]]"
   ]
  },
  {
   "cell_type": "code",
   "execution_count": 23,
   "id": "7e1d4a95",
   "metadata": {},
   "outputs": [
    {
     "data": {
      "text/html": [
       "<div>\n",
       "<style scoped>\n",
       "    .dataframe tbody tr th:only-of-type {\n",
       "        vertical-align: middle;\n",
       "    }\n",
       "\n",
       "    .dataframe tbody tr th {\n",
       "        vertical-align: top;\n",
       "    }\n",
       "\n",
       "    .dataframe thead th {\n",
       "        text-align: right;\n",
       "    }\n",
       "</style>\n",
       "<table border=\"1\" class=\"dataframe\">\n",
       "  <thead>\n",
       "    <tr style=\"text-align: right;\">\n",
       "      <th></th>\n",
       "      <th>Score1</th>\n",
       "      <th>Score2</th>\n",
       "      <th>Score3</th>\n",
       "      <th>Score4</th>\n",
       "      <th>Score5</th>\n",
       "      <th>Score6</th>\n",
       "    </tr>\n",
       "  </thead>\n",
       "  <tbody>\n",
       "    <tr>\n",
       "      <th>A</th>\n",
       "      <td>0.604712</td>\n",
       "      <td>0.695394</td>\n",
       "      <td>0.460278</td>\n",
       "      <td>0.395283</td>\n",
       "      <td>0.484256</td>\n",
       "      <td>1.300106</td>\n",
       "    </tr>\n",
       "    <tr>\n",
       "      <th>B</th>\n",
       "      <td>0.651724</td>\n",
       "      <td>0.959971</td>\n",
       "      <td>0.582550</td>\n",
       "      <td>0.521702</td>\n",
       "      <td>0.279101</td>\n",
       "      <td>1.611695</td>\n",
       "    </tr>\n",
       "    <tr>\n",
       "      <th>C</th>\n",
       "      <td>0.487765</td>\n",
       "      <td>0.784337</td>\n",
       "      <td>0.581701</td>\n",
       "      <td>0.822939</td>\n",
       "      <td>0.634076</td>\n",
       "      <td>1.272102</td>\n",
       "    </tr>\n",
       "    <tr>\n",
       "      <th>D</th>\n",
       "      <td>0.696250</td>\n",
       "      <td>0.127148</td>\n",
       "      <td>0.002887</td>\n",
       "      <td>0.739193</td>\n",
       "      <td>0.501798</td>\n",
       "      <td>0.823398</td>\n",
       "    </tr>\n",
       "    <tr>\n",
       "      <th>E</th>\n",
       "      <td>0.434303</td>\n",
       "      <td>0.756940</td>\n",
       "      <td>0.943734</td>\n",
       "      <td>0.194841</td>\n",
       "      <td>0.379262</td>\n",
       "      <td>1.191243</td>\n",
       "    </tr>\n",
       "    <tr>\n",
       "      <th>F</th>\n",
       "      <td>0.296340</td>\n",
       "      <td>0.271583</td>\n",
       "      <td>0.985466</td>\n",
       "      <td>0.727408</td>\n",
       "      <td>0.539584</td>\n",
       "      <td>0.567923</td>\n",
       "    </tr>\n",
       "    <tr>\n",
       "      <th>G</th>\n",
       "      <td>0.055912</td>\n",
       "      <td>0.345239</td>\n",
       "      <td>0.204766</td>\n",
       "      <td>0.553160</td>\n",
       "      <td>0.699460</td>\n",
       "      <td>0.401151</td>\n",
       "    </tr>\n",
       "    <tr>\n",
       "      <th>H</th>\n",
       "      <td>0.185420</td>\n",
       "      <td>0.879349</td>\n",
       "      <td>0.892606</td>\n",
       "      <td>0.868497</td>\n",
       "      <td>0.437704</td>\n",
       "      <td>1.064769</td>\n",
       "    </tr>\n",
       "  </tbody>\n",
       "</table>\n",
       "</div>"
      ],
      "text/plain": [
       "     Score1    Score2    Score3    Score4    Score5    Score6\n",
       "A  0.604712  0.695394  0.460278  0.395283  0.484256  1.300106\n",
       "B  0.651724  0.959971  0.582550  0.521702  0.279101  1.611695\n",
       "C  0.487765  0.784337  0.581701  0.822939  0.634076  1.272102\n",
       "D  0.696250  0.127148  0.002887  0.739193  0.501798  0.823398\n",
       "E  0.434303  0.756940  0.943734  0.194841  0.379262  1.191243\n",
       "F  0.296340  0.271583  0.985466  0.727408  0.539584  0.567923\n",
       "G  0.055912  0.345239  0.204766  0.553160  0.699460  0.401151\n",
       "H  0.185420  0.879349  0.892606  0.868497  0.437704  1.064769"
      ]
     },
     "execution_count": 23,
     "metadata": {},
     "output_type": "execute_result"
    }
   ],
   "source": [
    "df1['Score6']=df1['Score1']+df1['Score2']\n",
    "df1"
   ]
  },
  {
   "cell_type": "code",
   "execution_count": 26,
   "id": "a7d82df4",
   "metadata": {},
   "outputs": [
    {
     "data": {
      "text/html": [
       "<div>\n",
       "<style scoped>\n",
       "    .dataframe tbody tr th:only-of-type {\n",
       "        vertical-align: middle;\n",
       "    }\n",
       "\n",
       "    .dataframe tbody tr th {\n",
       "        vertical-align: top;\n",
       "    }\n",
       "\n",
       "    .dataframe thead th {\n",
       "        text-align: right;\n",
       "    }\n",
       "</style>\n",
       "<table border=\"1\" class=\"dataframe\">\n",
       "  <thead>\n",
       "    <tr style=\"text-align: right;\">\n",
       "      <th></th>\n",
       "      <th>ID</th>\n",
       "      <th>Name</th>\n",
       "      <th>Profit</th>\n",
       "    </tr>\n",
       "  </thead>\n",
       "  <tbody>\n",
       "    <tr>\n",
       "      <th>0</th>\n",
       "      <td>101</td>\n",
       "      <td>John</td>\n",
       "      <td>20</td>\n",
       "    </tr>\n",
       "    <tr>\n",
       "      <th>1</th>\n",
       "      <td>102</td>\n",
       "      <td>Mercy</td>\n",
       "      <td>54</td>\n",
       "    </tr>\n",
       "    <tr>\n",
       "      <th>2</th>\n",
       "      <td>103</td>\n",
       "      <td>Akash</td>\n",
       "      <td>56</td>\n",
       "    </tr>\n",
       "    <tr>\n",
       "      <th>3</th>\n",
       "      <td>107</td>\n",
       "      <td>Kavin</td>\n",
       "      <td>87</td>\n",
       "    </tr>\n",
       "    <tr>\n",
       "      <th>4</th>\n",
       "      <td>176</td>\n",
       "      <td>Lally</td>\n",
       "      <td>123</td>\n",
       "    </tr>\n",
       "  </tbody>\n",
       "</table>\n",
       "</div>"
      ],
      "text/plain": [
       "    ID   Name  Profit\n",
       "0  101   John      20\n",
       "1  102  Mercy      54\n",
       "2  103  Akash      56\n",
       "3  107  Kavin      87\n",
       "4  176  Lally     123"
      ]
     },
     "execution_count": 26,
     "metadata": {},
     "output_type": "execute_result"
    }
   ],
   "source": [
    "df2={'ID':['101','102','103','107','176'],'Name':['John','Mercy','Akash','Kavin','Lally'],'Profit':[20,54,56,87,123]}\n",
    "df=pd.DataFrame(df2)\n",
    "df"
   ]
  },
  {
   "cell_type": "code",
   "execution_count": 27,
   "id": "1136c37a",
   "metadata": {},
   "outputs": [
    {
     "data": {
      "text/plain": [
       "0    101\n",
       "1    102\n",
       "2    103\n",
       "3    107\n",
       "4    176\n",
       "Name: ID, dtype: object"
      ]
     },
     "execution_count": 27,
     "metadata": {},
     "output_type": "execute_result"
    }
   ],
   "source": [
    "df[\"ID\"]"
   ]
  },
  {
   "cell_type": "code",
   "execution_count": 28,
   "id": "76f9cd2c",
   "metadata": {},
   "outputs": [
    {
     "data": {
      "text/html": [
       "<div>\n",
       "<style scoped>\n",
       "    .dataframe tbody tr th:only-of-type {\n",
       "        vertical-align: middle;\n",
       "    }\n",
       "\n",
       "    .dataframe tbody tr th {\n",
       "        vertical-align: top;\n",
       "    }\n",
       "\n",
       "    .dataframe thead th {\n",
       "        text-align: right;\n",
       "    }\n",
       "</style>\n",
       "<table border=\"1\" class=\"dataframe\">\n",
       "  <thead>\n",
       "    <tr style=\"text-align: right;\">\n",
       "      <th></th>\n",
       "      <th>ID</th>\n",
       "      <th>Name</th>\n",
       "    </tr>\n",
       "  </thead>\n",
       "  <tbody>\n",
       "    <tr>\n",
       "      <th>0</th>\n",
       "      <td>101</td>\n",
       "      <td>John</td>\n",
       "    </tr>\n",
       "    <tr>\n",
       "      <th>1</th>\n",
       "      <td>102</td>\n",
       "      <td>Mercy</td>\n",
       "    </tr>\n",
       "    <tr>\n",
       "      <th>2</th>\n",
       "      <td>103</td>\n",
       "      <td>Akash</td>\n",
       "    </tr>\n",
       "    <tr>\n",
       "      <th>3</th>\n",
       "      <td>107</td>\n",
       "      <td>Kavin</td>\n",
       "    </tr>\n",
       "    <tr>\n",
       "      <th>4</th>\n",
       "      <td>176</td>\n",
       "      <td>Lally</td>\n",
       "    </tr>\n",
       "  </tbody>\n",
       "</table>\n",
       "</div>"
      ],
      "text/plain": [
       "    ID   Name\n",
       "0  101   John\n",
       "1  102  Mercy\n",
       "2  103  Akash\n",
       "3  107  Kavin\n",
       "4  176  Lally"
      ]
     },
     "execution_count": 28,
     "metadata": {},
     "output_type": "execute_result"
    }
   ],
   "source": [
    "df[[\"ID\",\"Name\"]]"
   ]
  },
  {
   "cell_type": "code",
   "execution_count": 29,
   "id": "54770281",
   "metadata": {},
   "outputs": [
    {
     "data": {
      "text/html": [
       "<div>\n",
       "<style scoped>\n",
       "    .dataframe tbody tr th:only-of-type {\n",
       "        vertical-align: middle;\n",
       "    }\n",
       "\n",
       "    .dataframe tbody tr th {\n",
       "        vertical-align: top;\n",
       "    }\n",
       "\n",
       "    .dataframe thead th {\n",
       "        text-align: right;\n",
       "    }\n",
       "</style>\n",
       "<table border=\"1\" class=\"dataframe\">\n",
       "  <thead>\n",
       "    <tr style=\"text-align: right;\">\n",
       "      <th></th>\n",
       "      <th>Name</th>\n",
       "      <th>Profit</th>\n",
       "    </tr>\n",
       "  </thead>\n",
       "  <tbody>\n",
       "    <tr>\n",
       "      <th>0</th>\n",
       "      <td>John</td>\n",
       "      <td>20</td>\n",
       "    </tr>\n",
       "    <tr>\n",
       "      <th>1</th>\n",
       "      <td>Mercy</td>\n",
       "      <td>54</td>\n",
       "    </tr>\n",
       "    <tr>\n",
       "      <th>2</th>\n",
       "      <td>Akash</td>\n",
       "      <td>56</td>\n",
       "    </tr>\n",
       "    <tr>\n",
       "      <th>3</th>\n",
       "      <td>Kavin</td>\n",
       "      <td>87</td>\n",
       "    </tr>\n",
       "    <tr>\n",
       "      <th>4</th>\n",
       "      <td>Lally</td>\n",
       "      <td>123</td>\n",
       "    </tr>\n",
       "  </tbody>\n",
       "</table>\n",
       "</div>"
      ],
      "text/plain": [
       "    Name  Profit\n",
       "0   John      20\n",
       "1  Mercy      54\n",
       "2  Akash      56\n",
       "3  Kavin      87\n",
       "4  Lally     123"
      ]
     },
     "execution_count": 29,
     "metadata": {},
     "output_type": "execute_result"
    }
   ],
   "source": [
    "df.drop(\"ID\",axis=1)"
   ]
  },
  {
   "cell_type": "code",
   "execution_count": 30,
   "id": "446e6685",
   "metadata": {},
   "outputs": [
    {
     "data": {
      "text/html": [
       "<div>\n",
       "<style scoped>\n",
       "    .dataframe tbody tr th:only-of-type {\n",
       "        vertical-align: middle;\n",
       "    }\n",
       "\n",
       "    .dataframe tbody tr th {\n",
       "        vertical-align: top;\n",
       "    }\n",
       "\n",
       "    .dataframe thead th {\n",
       "        text-align: right;\n",
       "    }\n",
       "</style>\n",
       "<table border=\"1\" class=\"dataframe\">\n",
       "  <thead>\n",
       "    <tr style=\"text-align: right;\">\n",
       "      <th></th>\n",
       "      <th>ID</th>\n",
       "      <th>Name</th>\n",
       "      <th>Profit</th>\n",
       "    </tr>\n",
       "  </thead>\n",
       "  <tbody>\n",
       "    <tr>\n",
       "      <th>0</th>\n",
       "      <td>101</td>\n",
       "      <td>John</td>\n",
       "      <td>20</td>\n",
       "    </tr>\n",
       "    <tr>\n",
       "      <th>1</th>\n",
       "      <td>102</td>\n",
       "      <td>Mercy</td>\n",
       "      <td>54</td>\n",
       "    </tr>\n",
       "    <tr>\n",
       "      <th>2</th>\n",
       "      <td>103</td>\n",
       "      <td>Akash</td>\n",
       "      <td>56</td>\n",
       "    </tr>\n",
       "    <tr>\n",
       "      <th>4</th>\n",
       "      <td>176</td>\n",
       "      <td>Lally</td>\n",
       "      <td>123</td>\n",
       "    </tr>\n",
       "  </tbody>\n",
       "</table>\n",
       "</div>"
      ],
      "text/plain": [
       "    ID   Name  Profit\n",
       "0  101   John      20\n",
       "1  102  Mercy      54\n",
       "2  103  Akash      56\n",
       "4  176  Lally     123"
      ]
     },
     "execution_count": 30,
     "metadata": {},
     "output_type": "execute_result"
    }
   ],
   "source": [
    "df.drop(3)"
   ]
  },
  {
   "cell_type": "code",
   "execution_count": null,
   "id": "eb2727e6",
   "metadata": {},
   "outputs": [],
   "source": []
  }
 ],
 "metadata": {
  "kernelspec": {
   "display_name": "Python 3 (ipykernel)",
   "language": "python",
   "name": "python3"
  },
  "language_info": {
   "codemirror_mode": {
    "name": "ipython",
    "version": 3
   },
   "file_extension": ".py",
   "mimetype": "text/x-python",
   "name": "python",
   "nbconvert_exporter": "python",
   "pygments_lexer": "ipython3",
   "version": "3.9.13"
  }
 },
 "nbformat": 4,
 "nbformat_minor": 5
}
